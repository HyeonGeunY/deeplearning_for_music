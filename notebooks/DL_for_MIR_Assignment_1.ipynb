{
 "cells": [
  {
   "cell_type": "markdown",
   "metadata": {
    "id": "JgOZ42vRIEsl"
   },
   "source": [
    "# 과제 1\n",
    "- TODO로 표시된 함수 및 변수 선언 부분을 설명에 맞게 코드로 완성할 것\n",
    "    - TODO이외의 부분을 수정하지 않아도 코드가 작동함\n",
    "- 제출은 {이름}_과제1.ipynb로 저장하여 제출\n",
    "  - 코랩에서 작업 후 메뉴바- 파일/다운로드 ipynb \n",
    "- 제출 전 메뉴바-런타임/다시 시작 및 모두 실행 했을 때 정상 작동하는 것을 꼭 확인\n",
    "- 출제된 베이스 코드에 오타 및 에러 보고 시 가산점"
   ]
  },
  {
   "cell_type": "code",
   "execution_count": 8,
   "metadata": {
    "id": "C9L5fmKcQh8O"
   },
   "outputs": [],
   "source": [
    "import matplotlib.pyplot as plt\n",
    "import IPython.display as ipd\n",
    "import torch\n",
    "from math import pi\n",
    "import math\n",
    "import torchaudio\n",
    "import numpy as np\n",
    "SR = 16000"
   ]
  },
  {
   "cell_type": "markdown",
   "metadata": {
    "id": "CeMqPRR5Ij9x"
   },
   "source": [
    "## 문제 1: Pitch Scale 변환 및 음계 생성 (5점)\n",
    "- Hz는 선형적인 스케일을 가진 주파수 단위\n",
    "  - 일초에 같은 파형이 몇번 반복되는지를 나타냄\n",
    "- MIDI Pitch는 가온 다(C4)를 60으로 하고 서양음계에서의 반음 차이를 1로 두는 단위\n",
    "  - 서양음계에서 한 옥타브는 12개의 반음으로 이루어져있음\n",
    "  - 한 옥타브 차이의 음은 MIDI Pitch상 12 만큼 차이남\n",
    "  - 피아노 건반의 88개 음은 MIDI Pitch 21에서 시작해 108로 끝나는 정수에 해당함 \n",
    "<img src=https://newt.phys.unsw.edu.au/jw/graphics/notesinvert.GIF>\n",
    "\n",
    "- Hz를 Pitch로 변환하는 식 (평균율 기준)\n",
    "  - $f(h) = \\log_2(\\frac{h}{440}) \\times 12 + 69 $\n",
    "  - h: Hz \n",
    "- MIDI Pitch를 Hz로 변환하는 식 (평균율 기준)\n",
    "  - $f(\\text{p})= 440 \\times 2^{\\frac{p-69}{12}}$\n",
    "  - p: MIDI Pitch\n",
    "  - f(p): MIDI Pitch에 해당하는 Hz\n",
    "  - p=69일 때 f(p)=440Hz이며, p가 1늘어날 때마다 주파수가 $\\times 2^{\\frac{1}{12}}$ 비율로 증가함"
   ]
  },
  {
   "cell_type": "code",
   "execution_count": 4,
   "metadata": {
    "id": "T-w4nJO5IjwY"
   },
   "outputs": [
    {
     "name": "stdout",
     "output_type": "stream",
     "text": [
      "440 Hz is 69.00 in MIDI Pitch\n",
      "880 Hz is 81.00 in MIDI Pitch\n",
      "1320 Hz is 88.02 in MIDI Pitch\n",
      "1760 Hz is 93.00 in MIDI Pitch\n",
      "2200 Hz is 96.86 in MIDI Pitch\n",
      "2640 Hz is 100.02 in MIDI Pitch\n",
      "3080 Hz is 102.69 in MIDI Pitch\n",
      "3520 Hz is 105.00 in MIDI Pitch\n",
      "3960 Hz is 107.04 in MIDI Pitch\n",
      "60 in MIDI Pitch is 261.63 Hz\n",
      "61 in MIDI Pitch is 277.18 Hz\n",
      "62 in MIDI Pitch is 293.66 Hz\n",
      "63 in MIDI Pitch is 311.13 Hz\n",
      "64 in MIDI Pitch is 329.63 Hz\n",
      "65 in MIDI Pitch is 349.23 Hz\n",
      "66 in MIDI Pitch is 369.99 Hz\n",
      "67 in MIDI Pitch is 392.00 Hz\n",
      "68 in MIDI Pitch is 415.30 Hz\n",
      "69 in MIDI Pitch is 440.00 Hz\n",
      "70 in MIDI Pitch is 466.16 Hz\n",
      "71 in MIDI Pitch is 493.88 Hz\n",
      "72 in MIDI Pitch is 523.25 Hz\n"
     ]
    }
   ],
   "source": [
    "from math import log\n",
    "def hz_to_midi_pitch(frequency):\n",
    "  '''\n",
    "  입력: 음높이의 Hz 단위 주파수 (float)\n",
    "\n",
    "  출력: 입력 음높이를 MIDI Pitch Scale로 변환한 값 (float). 반올림할 필요 없음\n",
    "  '''\n",
    "  \n",
    "  f_h = math.log(frequency / 440, 2) * 12 + 69 \n",
    "\n",
    "  # TODO: 주어진 입출력 형식과 내용을 만족하는 함수를 완성하시오\n",
    "  return f_h\n",
    "\n",
    "\n",
    "def midi_pitch_to_hz(midi_pitch):\n",
    "  '''\n",
    "  입력: 음높이의 MIDI Pitch Scale (float)\n",
    "\n",
    "  출력: 입력 음높이를 Hz로 변환한 값 (float)\n",
    "  '''\n",
    "  # TODO: 주어진 입출력 형식과 내용을 만족하는 함수를 완성하시오\n",
    "  \n",
    "  f_p = 440 * 2 ** ((midi_pitch - 69) / 12)\n",
    "  return f_p\n",
    "\n",
    "for harmonic_index in range(1,10):\n",
    "  test_freq = 440 * harmonic_index\n",
    "  print(f'{test_freq} Hz is {hz_to_midi_pitch(test_freq):.2f} in MIDI Pitch')\n",
    "\n",
    "for midi_pitch in range(60, 73):\n",
    "  print(f'{midi_pitch} in MIDI Pitch is {midi_pitch_to_hz(midi_pitch):.2f} Hz')"
   ]
  },
  {
   "cell_type": "markdown",
   "metadata": {
    "id": "O_KKg9LWPH3S"
   },
   "source": [
    "## 문제2: 코드 및 음계 합성하기 (20점)\n",
    "- 주어진 make_sine_wave 및 문제1번에서 완성한 함수를 활용하여 아래 함수들을 완성하시오"
   ]
  },
  {
   "cell_type": "code",
   "execution_count": 62,
   "metadata": {
    "id": "e0DfpXE8P4sq"
   },
   "outputs": [],
   "source": [
    "class Oscilator:\n",
    "  def __init__(self, freq, amp, sr):\n",
    "    self.freq = freq\n",
    "    self.amp = amp \n",
    "    self.sr = sr\n",
    "\n",
    "  def generate(self, dur):\n",
    "    return make_sine_wave(self.freq, self.amp, dur, self.sr)\n",
    "\n",
    "def make_sine_wave(freq, amp, dur, sr):\n",
    "  num_samples = dur * sr\n",
    "  time_frame = torch.arange(num_samples)\n",
    "  time_frame_sec = time_frame / sr\n",
    "  if freq.dim() == 1:\n",
    "      freq = freq.unsqueeze(-1)\n",
    "  if amp.dim() == 1:\n",
    "      amp = amp.unsqueeze(-1)\n",
    "  return amp * torch.sin(2 * pi * freq * time_frame_sec)\n",
    "\n",
    "def generate_multi_pitch_tone(pitch_list, amp_list, duration, sr):\n",
    "  '''\n",
    "  입력: pitch_list: List of length n that contains n number of MIDI Pitch \n",
    "                   n 개의 MIDI Pitch 정수를 포함하고 있는 리스트 (n>=2)\n",
    "       amp_list : List of length n that contains amplitude for each pitch   (0<amp<=1)\n",
    "                   pitch_list에 있는 n개의 MIDI Pitch 각각에 해당하는 amplitude \n",
    "                   (각각의 amplitude는0보다 크고 1보다 작거나 같음)\n",
    "      duration: 출력되는 소리의 길이 (float)\n",
    "      sr: sampling rate\n",
    "\n",
    "  출력: 입력으로 주어진 리스트 속에 있는 모든 pitch가 포함된 오디오 샘플 (sample_rate=sr, torch.Tensor 형태)\n",
    "\n",
    "        예) 입력:  \n",
    "          pitch_list = [60, 64, 67]\n",
    "          amp_list = [1, 0.7, 0.5]\n",
    "          출력: MIDI Pitch 60이며 amplitude가 1인 소리, Pitch 64이며 amp 0.7인 소리, \n",
    "               Pitch 67이며 amp 0.5인 소리 세 개가 duration만큼 동시에 재생되는 오디오 샘플 \n",
    "    \n",
    "  '''\n",
    "  assert len(pitch_list) == len(amp_list)\n",
    "  # TODO: 주어진 입출력 형식과 내용을 만족하는 함수를 완성하시오\n",
    "  pitch_tensor = torch.tensor(pitch_list)\n",
    "  amp_tensor = torch.tensor(amp_list)\n",
    "  f_hz_tensor = midi_pitch_to_hz(pitch_tensor)\n",
    "  sine_wave_tensor = make_sine_wave(f_hz_tensor, amp_tensor, duration, sr)\n",
    "\n",
    "  return sine_wave_tensor.mean(axis=0)"
   ]
  },
  {
   "cell_type": "code",
   "execution_count": 49,
   "metadata": {},
   "outputs": [
    {
     "name": "stdout",
     "output_type": "stream",
     "text": [
      "tensor([60, 64, 67])\n",
      "tensor([1, 1, 1])\n"
     ]
    }
   ],
   "source": [
    "c_major_chord = [60, 64, 67]\n",
    "amp_list = [1, 1, 1]\n",
    "pitch_tensor = torch.tensor(c_major_chord)\n",
    "amp_tensor = torch.tensor(amp_list)"
   ]
  },
  {
   "cell_type": "code",
   "execution_count": 63,
   "metadata": {},
   "outputs": [
    {
     "name": "stdout",
     "output_type": "stream",
     "text": [
      "tensor([261.6255, 329.6276, 391.9954])\n"
     ]
    },
    {
     "data": {
      "text/plain": [
       "tensor([ 0.0000,  0.1283,  0.2544,  ..., -0.7687, -0.6845, -0.5895])"
      ]
     },
     "execution_count": 63,
     "metadata": {},
     "output_type": "execute_result"
    }
   ],
   "source": [
    "generate_multi_pitch_tone(c_major_chord, amp_list, dur, sr)"
   ]
  },
  {
   "cell_type": "code",
   "execution_count": 39,
   "metadata": {},
   "outputs": [
    {
     "name": "stdout",
     "output_type": "stream",
     "text": [
      "tensor([261.6255, 329.6276, 391.9954])\n"
     ]
    }
   ],
   "source": [
    "f_hz_tensor = midi_pitch_to_hz(pitch_tensor)\n",
    "print(f_hz_tensor)"
   ]
  },
  {
   "cell_type": "code",
   "execution_count": 40,
   "metadata": {},
   "outputs": [
    {
     "name": "stdout",
     "output_type": "stream",
     "text": [
      "tensor([    0,     1,     2,  ..., 47997, 47998, 47999])\n",
      "tensor([0.0000e+00, 6.2500e-05, 1.2500e-04,  ..., 2.9998e+00, 2.9999e+00,\n",
      "        2.9999e+00])\n"
     ]
    }
   ],
   "source": [
    "dur = 3\n",
    "sr = 16000\n",
    "num_samples = dur * sr\n",
    "time_frame = torch.arange(num_samples)\n",
    "time_frame_sec = time_frame / sr\n",
    "print(time_frame)\n",
    "print(time_frame_sec)"
   ]
  },
  {
   "cell_type": "code",
   "execution_count": 42,
   "metadata": {},
   "outputs": [
    {
     "name": "stdout",
     "output_type": "stream",
     "text": [
      "tensor([[261.6255],\n",
      "        [329.6276],\n",
      "        [391.9954]])\n"
     ]
    },
    {
     "data": {
      "text/plain": [
       "tensor([[ 0.0000,  0.1026,  0.2040,  ..., -0.8835, -0.8309, -0.7692],\n",
       "        [ 0.0000,  0.1291,  0.2560,  ..., -0.9022, -0.8391, -0.7619],\n",
       "        [ 0.0000,  0.1533,  0.3030,  ..., -0.5205, -0.3835, -0.2375]])"
      ]
     },
     "execution_count": 42,
     "metadata": {},
     "output_type": "execute_result"
    }
   ],
   "source": [
    "if f_hz_tensor.dim() == 1:\n",
    "    f_hz_tensor = f_hz_tensor.unsqueeze(-1)\n",
    "    print(f_hz_tensor)\n",
    "torch.sin(2 * pi * f_hz_tensor * time_frame_sec)"
   ]
  },
  {
   "cell_type": "code",
   "execution_count": 48,
   "metadata": {},
   "outputs": [
    {
     "name": "stdout",
     "output_type": "stream",
     "text": [
      "tensor([261.6255, 329.6276, 391.9954])\n"
     ]
    },
    {
     "ename": "RuntimeError",
     "evalue": "The size of tensor a (3) must match the size of tensor b (48000) at non-singleton dimension 1",
     "output_type": "error",
     "traceback": [
      "\u001b[1;31m---------------------------------------------------------------------------\u001b[0m",
      "\u001b[1;31mRuntimeError\u001b[0m                              Traceback (most recent call last)",
      "Input \u001b[1;32mIn [48]\u001b[0m, in \u001b[0;36m<cell line: 1>\u001b[1;34m()\u001b[0m\n\u001b[1;32m----> 1\u001b[0m \u001b[43mgenerate_multi_pitch_tone\u001b[49m\u001b[43m(\u001b[49m\u001b[43mc_major_chord\u001b[49m\u001b[43m,\u001b[49m\u001b[43m \u001b[49m\u001b[43mamp_list\u001b[49m\u001b[43m,\u001b[49m\u001b[43m \u001b[49m\u001b[38;5;241;43m3\u001b[39;49m\u001b[43m,\u001b[49m\u001b[43m \u001b[49m\u001b[43msr\u001b[49m\u001b[38;5;241;43m=\u001b[39;49m\u001b[43mSR\u001b[49m\u001b[43m)\u001b[49m\n",
      "Input \u001b[1;32mIn [47]\u001b[0m, in \u001b[0;36mgenerate_multi_pitch_tone\u001b[1;34m(pitch_list, amp_list, duration, sr)\u001b[0m\n\u001b[0;32m     41\u001b[0m f_hz_tensor \u001b[38;5;241m=\u001b[39m midi_pitch_to_hz(pitch_tensor)\n\u001b[0;32m     42\u001b[0m \u001b[38;5;28mprint\u001b[39m(f_hz_tensor)\n\u001b[1;32m---> 43\u001b[0m sine_wave_tensor \u001b[38;5;241m=\u001b[39m \u001b[43mmake_sine_wave\u001b[49m\u001b[43m(\u001b[49m\u001b[43mf_hz_tensor\u001b[49m\u001b[43m,\u001b[49m\u001b[43m \u001b[49m\u001b[43mamp_tensor\u001b[49m\u001b[43m,\u001b[49m\u001b[43m \u001b[49m\u001b[43mduration\u001b[49m\u001b[43m,\u001b[49m\u001b[43m \u001b[49m\u001b[43msr\u001b[49m\u001b[43m)\u001b[49m\n\u001b[0;32m     45\u001b[0m \u001b[38;5;28;01mreturn\u001b[39;00m sine_wave_tensor\n",
      "Input \u001b[1;32mIn [47]\u001b[0m, in \u001b[0;36mmake_sine_wave\u001b[1;34m(freq, amp, dur, sr)\u001b[0m\n\u001b[0;32m     14\u001b[0m \u001b[38;5;28;01mif\u001b[39;00m freq\u001b[38;5;241m.\u001b[39mdim() \u001b[38;5;241m==\u001b[39m \u001b[38;5;241m1\u001b[39m:\n\u001b[0;32m     15\u001b[0m     freq \u001b[38;5;241m=\u001b[39m freq\u001b[38;5;241m.\u001b[39munsqueeze(\u001b[38;5;241m-\u001b[39m\u001b[38;5;241m1\u001b[39m)\n\u001b[1;32m---> 16\u001b[0m \u001b[38;5;28;01mreturn\u001b[39;00m \u001b[43mamp\u001b[49m\u001b[43m \u001b[49m\u001b[38;5;241;43m*\u001b[39;49m\u001b[43m \u001b[49m\u001b[43mtorch\u001b[49m\u001b[38;5;241;43m.\u001b[39;49m\u001b[43msin\u001b[49m\u001b[43m(\u001b[49m\u001b[38;5;241;43m2\u001b[39;49m\u001b[43m \u001b[49m\u001b[38;5;241;43m*\u001b[39;49m\u001b[43m \u001b[49m\u001b[43mpi\u001b[49m\u001b[43m \u001b[49m\u001b[38;5;241;43m*\u001b[39;49m\u001b[43m \u001b[49m\u001b[43mfreq\u001b[49m\u001b[43m \u001b[49m\u001b[38;5;241;43m*\u001b[39;49m\u001b[43m \u001b[49m\u001b[43mtime_frame_sec\u001b[49m\u001b[43m)\u001b[49m\n",
      "\u001b[1;31mRuntimeError\u001b[0m: The size of tensor a (3) must match the size of tensor b (48000) at non-singleton dimension 1"
     ]
    }
   ],
   "source": [
    "generate_multi_pitch_tone(c_major_chord, amp_list, 3, sr=SR)"
   ]
  },
  {
   "cell_type": "markdown",
   "metadata": {
    "id": "bgtcOT6d077L"
   },
   "source": [
    "`generate_multi_pitch_tone`을 완성하면 다음 코드를 실행하여 C장조 코드 (도,미,솔)이 생성되는지 확인한다"
   ]
  },
  {
   "cell_type": "code",
   "execution_count": 64,
   "metadata": {
    "id": "6Vxprvp-QJ9x"
   },
   "outputs": [
    {
     "name": "stdout",
     "output_type": "stream",
     "text": [
      "tensor([261.6255, 329.6276, 391.9954])\n"
     ]
    },
    {
     "data": {
      "text/html": [
       "\n",
       "                <audio  controls=\"controls\" >\n",
       "                    <source src=\"data:audio/wav;base64,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\" type=\"audio/wav\" />\n",
       "                    Your browser does not support the audio element.\n",
       "                </audio>\n",
       "              "
      ],
      "text/plain": [
       "<IPython.lib.display.Audio object>"
      ]
     },
     "execution_count": 64,
     "metadata": {},
     "output_type": "execute_result"
    }
   ],
   "source": [
    "c_major_chord = [60, 64, 67]\n",
    "amp_list = [1, 1, 1]\n",
    "chord_tone = generate_multi_pitch_tone(c_major_chord, amp_list, 3, sr=SR)\n",
    "ipd.Audio(chord_tone, rate=SR)"
   ]
  },
  {
   "cell_type": "code",
   "execution_count": null,
   "metadata": {
    "id": "JKzcpUHl1brN"
   },
   "outputs": [],
   "source": [
    "def make_major_scale_hz_sequence(midi_pitch):\n",
    "  '''\n",
    "  입력: 음높이의 MIDI Pitch Scale (float)\n",
    "\n",
    "  출력 (list of float): 입력된 MIDI Pitch를 1음(Do)으로 하는 장음계 8개의 음의 Hz\n",
    "  Hint: 장음계는 3음과 4음 (Mi, Fa) 사이가 반음, 7음과 8음 (Si, Do) 사이가 반음이며 나머지는 모두 온음 간격이다.\n",
    "\n",
    "  예: 입력이 60 (C4)라면, C4, D4, E4, F4, G4, A4, B4, C5에 해당하는 음고 Hz를 list로 출력한다. \n",
    "  '''\n",
    "  # TODO: 주어진 입출력 형식과 내용을 만족하는 함수를 완성하시오\n",
    "  return\n",
    "\n",
    "\n",
    "def generate_sequence_of_pitch(alist_of_hz, duration, sr):\n",
    "  '''\n",
    "  입력: \n",
    "    alist_of_hz (list): A list of float (Hz)\n",
    "    duration (float): Duration of each frequency (seconds)\n",
    "\n",
    "  출력: 입력으로 주어진 리스트 속에 있는 모든 Hz가 순서대로 등장하는 오디오 샘플 (sample_rate=sr, torch.Tensor 형태)\n",
    "\n",
    "  예) 입력:  \n",
    "          alist_of_hz = [440, 660, 880]\n",
    "          duration = 1\n",
    "          출력: 440 Hz 사인파가 1초 동안 재생된 뒤 660 Hz 사인파가 1초 동안 재생된 뒤 880 Hz 사인파가 1초 동안 재생되는 오디오 샘플\n",
    "  '''\n",
    "  # TODO: 주어진 입출력 형식과 내용을 만족하는 함수를 완성하시오\n",
    "  return\n",
    "\n",
    "fund_note = 69 # MIDI pitch for A4\n",
    "major_scale_in_hz = make_major_scale_hz_sequence(fund_note)\n",
    "scale_sine = generate_sequence_of_pitch(major_scale_in_hz, duration=0.5, sr=SR)\n",
    "\n",
    "ipd.display(ipd.Audio(scale_sine, rate=SR))"
   ]
  },
  {
   "cell_type": "markdown",
   "metadata": {
    "id": "LnFb2sw7qF0e"
   },
   "source": [
    "## 문제 3: 순정률 (Just Intonation) vs 평균율 (Equal Temperament) (5점)\n",
    "- 음고가 2배가 되면 같은 음으로 인지되는 것을 옥타브라고 한다.\n",
    "  - 한 옥타브 안에 있는 음표들 끼리 어떤 음고 비율을 가지게 만들까?\n",
    "- [순정률](https://ko.wikipedia.org/wiki/%EC%88%9C%EC%A0%95%EB%A5%A0)은 각각의 음고 (Hz) 관계가 정수배로 표현되는 조율법 의미한다.\n",
    "  - 정수배 비율로 표현된다는 것은 유리수, 즉 분모와 분자가 정수인 분수로 표현할 수 있다는 말이다.\n",
    "  - 순정 8도는 근음과 높은음의 음고 비율이 1:2가 되는 관계다.\n",
    "  - 순정 5도는 근음과 높은음의 음고 비율이 2:3이 되는 관계다\n",
    "  - 순정 장3도는 근음과 높은음의 음고 비율이 4:5가 되는 관계다.\n",
    "  - 순정 단3도는 근음과 높은음의 음고 비율이 5:6이 되는 관계다.\n",
    "- 평균율은 한 옥타브를 12개의 반음으로 쪼개고 각각의 반음 간의 음고 비율이 모두 일정하게 만든다.\n",
    "  - 반음 끼리의 주파수 비율은 $2^{\\frac{1}{12}}$\n",
    "  - 화음을 만들때 음끼리 정확한 정수배가 되지 않는다"
   ]
  },
  {
   "cell_type": "code",
   "execution_count": null,
   "metadata": {
    "id": "mNu2G06QprYp"
   },
   "outputs": [],
   "source": [
    "def make_just_intonation_triad_in_midi_pitch(fundamental_pitch):\n",
    "  '''\n",
    "  This function takes a fundamental_pitch in MIDI pitch then returns a list of three MIDI pitch\n",
    "  that corresponds to major triad for a given fundamental frequency\n",
    "\n",
    "  fundamental_pitch: 근음의 음고 MIDI Pitch\n",
    "  output= [근음의 MIDI_pitch, 근음 순정 장3도의 MIDI_Pitch, 근음기준 순정 5도의 MIDI Pitch]\n",
    "  '''\n",
    "\n",
    "  # TODO: 주어진 입출력 형식과 내용을 만족하는 함수를 완성하시오\n",
    "\n",
    "  return\n",
    "\n",
    "\n",
    "'''\n",
    "다음 예제는 순정율로 만든 장화음 소리와 평균율로 만들어진 장화음 소리를 비교하는 것이다.\n",
    "순정율 함수를 정확하게 구현하였다면 평균율에 비해서 맥놀이 없이 안정적인 소리가 재생된다. \n",
    "'''\n",
    "fund_pitch = 60\n",
    "just_intonation_chord = make_just_intonation_triad_in_midi_pitch(fund_pitch)\n",
    "amp_list = [1, 1, 1]\n",
    "just_chord_tone = generate_multi_pitch_tone(just_intonation_chord, amp_list, 3, sr=SR)\n",
    "print(f'Below is the Chord Tone with Just Intonation ({just_intonation_chord:})')\n",
    "ipd.display(ipd.Audio(just_chord_tone, rate=SR))\n",
    "\n",
    "equal_temperament_chord = [fund_pitch, fund_pitch+4, fund_pitch+7]\n",
    "equal_chord_tone = generate_multi_pitch_tone(equal_temperament_chord, amp_list, 3, sr=SR)\n",
    "print(f'Below is the Chord Tone with Equal Temperament  ({equal_temperament_chord}). You can hear beat(맥놀이).')\n",
    "ipd.display(ipd.Audio(equal_chord_tone, rate=SR))"
   ]
  },
  {
   "cell_type": "markdown",
   "metadata": {
    "id": "aW9LYzLLQKnP"
   },
   "source": [
    "## 문제3: 셰퍼드 톤 합성하기 (20점)\n",
    "- [셰퍼드 톤 설명 영상](https://youtu.be/LVWTQcZbLgY)\n",
    "- 사람이 소리의 높이와 세기를 어떻게 인지하는지를 고려하여 완성한다."
   ]
  },
  {
   "cell_type": "code",
   "execution_count": null,
   "metadata": {
    "id": "8nxY30_WoFhx"
   },
   "outputs": [],
   "source": [
    "class ShepardToneGenerator:\n",
    "  def __init__(self, sr, dur_per_step, num_iteration):\n",
    "    self.sr = sr #sampling rate\n",
    "    self.dur = dur_per_step # 한 음 당 길이 (초) \n",
    "    self.iter = num_iteration # 전체 시퀀스를 몇번 반복할 것인지\n",
    "    self.fadeout_margin = self.dur*0.1 # 음 끝의 페이드아웃 길이\n",
    "    \n",
    "    self.pitch_combinations = self.define_pitch()\n",
    "    self.amplitude_combinations = self.define_amplitude()\n",
    "  \n",
    "  def define_pitch(self):\n",
    "    '''\n",
    "    입력: 없음\n",
    "\n",
    "    출력: List of List of MIDI pitch의 Tensor형태 \n",
    "         MIDI Pitch 리스트들의 리스트\n",
    "        (예: [ [60, 64, 67], [61, 65, 68], [62, 66, 69] ])\n",
    "    '''\n",
    "    output = torch.zeros([24, 3]) # 24 note combinations with 3 notes each\n",
    "    # TODO: 셰퍼드 톤을 만들기 위한 output을 완성하시오\n",
    "    return output\n",
    "\n",
    "  def define_amplitude(self):\n",
    "    '''\n",
    "    입력: 없음\n",
    "\n",
    "    출력: List of List of amplitude의 Tensor형태 \n",
    "         self.pitch_combinations의 각각에 해당하는 소리의 amplitude\n",
    "        (예: [ [1.0, 0.2, 0.8], [1.0, 0.5, 0.5], [1.0, 0.8, 0.2] ])\n",
    "\n",
    "    힌트: 사람이 듣는 소리의 크기는 amplitude의 log값에 비례하므로 amplitude를 이에 맞게 조절해야한다\n",
    "    '''\n",
    "    output = torch.zeros([24,3]) # 24 note combinations with 3 notes each\n",
    "    # TODO: 셰퍼드 톤을 만들기 위한 output을 완성하시오\n",
    "    return output\n",
    "\n",
    "  def generate(self):\n",
    "    outputs = []\n",
    "    for i in range(self.iter):\n",
    "      for j in range(len(self.pitch_combinations)):\n",
    "        current_pitches = self.pitch_combinations[j]\n",
    "        current_amplitudes = self.amplitude_combinations[j]\n",
    "        audio = generate_multi_pitch_tone(current_pitches, current_amplitudes, self.dur, self.sr)\n",
    "        audio[-int(self.fadeout_margin*self.sr):] *= torch.logspace(0, -3, int(self.fadeout_margin*self.sr))\n",
    "        outputs.append(audio)\n",
    "    return torch.cat(outputs, dim=-1)\n",
    "\n",
    "\n",
    "shetone = ShepardToneGenerator(SR,0.3,3)\n",
    "shepard_audio = shetone.generate()\n",
    "ipd.Audio(shepard_audio, rate=SR)"
   ]
  },
  {
   "cell_type": "markdown",
   "metadata": {
    "id": "XUPOOBwgO0tG"
   },
   "source": [
    "## 문제4: Spectrogram Plot\n",
    "- Spectrogram은 Short-time Fourier Transform을 이용하여 오디오 샘플을 시간에 따른 주파수별 에너지 변화로 표현한 2D 매트릭스이다.\n",
    "\n",
    "- 문제 4번에서는 위에서 생성한 `shepard_audio`를 사용해도 되며 아래 코드를 실행해서 다른 오디오를 불러와도 괜찮다."
   ]
  },
  {
   "cell_type": "code",
   "execution_count": null,
   "metadata": {
    "id": "w1MCs-X0h9pw"
   },
   "outputs": [],
   "source": [
    "# Option 1\n",
    "your_audio = shepard_audio\n",
    "\n",
    "# Option 2\n",
    "# your_audio = torchaudio.load(\"your_audiofile.wav\")"
   ]
  },
  {
   "cell_type": "markdown",
   "metadata": {
    "id": "bpIZ_nmE97TO"
   },
   "source": [
    "### 문제 4-1: Spectrogram 생성 (10점)\n",
    "- 주파수가 Linear Scale인 Spectrogram을 생성한다 \n",
    "  - 주파수가 Linear Scale이라는 것은 주파수를 나타내는 y축에 표현된 등간격이 100, 200, 300, 400 처럼 등차수열로 커지는 것을 의미한다.\n",
    "  - 주파수가 Log Scale로 표현되면 y축에 표현된 등간격이 100, 1000, 10000, 100000 처럼 등비수열로 커지는 것을 의미한다.\n",
    "\n",
    "![image](https://i.stack.imgur.com/Jg5EG.png)\n",
    "이 그림에서 K는 fft size에 해당하며 Q는 hop size에 해당한다."
   ]
  },
  {
   "cell_type": "code",
   "execution_count": null,
   "metadata": {
    "id": "0AfnQ7WTR9Az"
   },
   "outputs": [],
   "source": [
    "def get_spectrogram(audio, n_fft, hop_size):\n",
    "  '''\n",
    "  audio: 입력 오디오 샘플(torch.Tensor)\n",
    "  n_fft: fft size. 한 번에 몇 개의 오디오 샘플을 푸리에 변환할지 결정\n",
    "  hop_size: 오디오 \n",
    "\n",
    "  출력: 오디오에 대해 fft_size = n_fft를 사용한 스펙트로그램 (torch.Tensor)\n",
    "  '''\n",
    "\n",
    "  # TODO: torchaudio.transforms.Spectrogram을 이용하여 들어온 audio 입력에 대해 \n",
    "  # FFT Size(=Window Size, 특별한 언급이 없는 경우)가 n_fft인 스펙트로그램을 반환한다.\n",
    "  return\n",
    "\n",
    "spec = get_spectrogram(your_audio, 1024, 512)\n",
    "plt.imshow(spec, origin='below', aspect='auto', interpolation='nearest')"
   ]
  },
  {
   "cell_type": "markdown",
   "metadata": {
    "id": "QZf9r6FL_C8L"
   },
   "source": [
    "### 문제 3-2: Spectrogram 축의 값 변환 (20점)\n",
    "- 위에서 그려진 그래프의 x축 y축의 레이블 값은 각각 Frame / Bin (칸) 인덱스를 의미한다.\n",
    "  - `spec.shape`이 `torch.size([513, 1801])`이라면 이는 주파수 축으로 513개의 칸이 있고 시간 축으로는 1801개의 칸이 있다는 것을 의미한다. \n",
    "  - 예: x축 값 250은 스펙트로그램에서 250번째 시간축 칸을 의미한다. \n",
    "  - 예: y축 값 200은 200번째 주파수 칸을 의미한다.\n",
    "\n",
    "- 시간 축과 주파수 축을 각각 초(second)와 Hz 단위로 변환하면 스펙트로그램의 데이터를 더 잘 이해할 수 있다.\n",
    "- Spectrogram을 생성할 때 사용하였던 파라미터(n_fft, hop_size 등)를 이용하여 스펙트로그램 각각의 칸이 어떤 값을 의미하는지 변환할 수 있다.\n",
    "\n",
    "- **Hint:** 함수가 올바르게 완성되었다면 아래 plot 코드를 실행했을 때 x축은 초 단위, y축은 Hz 단위로 나오게 된다.\n",
    "  - 실제 오디오의 길이가 그래프 x축 가장 오른쪽 틱 레이블과 비슷한지 확인한다.\n",
    "  - 그래프 y축 가장 위쪽 틱 레이블이 Sampling rate의 절반과 비슷한지 확인한다.\n",
    "    - Nyquist's Theorem에 따라 샘플링 레이트 절반을 넘는 주파수는 관측할 수 없다.\n",
    "    - 즉 STFT 결과에서 가장 높은 주파수 칸은 샘플링레이트 절반에 해당하는 주파수이다."
   ]
  },
  {
   "cell_type": "code",
   "execution_count": null,
   "metadata": {
    "id": "RBb0TaxdBGp_"
   },
   "outputs": [],
   "source": [
    "def frequency_bin_to_hz(bin_index, sr, n_fft):\n",
    "  '''\n",
    "  입력: bin_index: Spectrogram에서 frequency bin의 인덱스\n",
    "\n",
    "  출력: sr,n_fft에 해당하는 스펙트로그램 frequency bin index의 frequency Hz\n",
    "  '''\n",
    "  # TODO: 함수를 완성하시오\n",
    "  return\n",
    "\n",
    "def time_bin_to_second(bin_index, sr, n_fft, hop_size):\n",
    "  '''\n",
    "  입력: bin_index: Spectrogram에서 time bin의 인덱스\n",
    "       sr: sampling rate\n",
    "       n_fft: fft size\n",
    "       hop_size: Spectrogram의 각 프레임이 입력 오디오 상에서 몇 오디오 샘플 씩 떨어져있는지를 나타냄 \n",
    "\n",
    "  출력: sr,n_fft,hop_size에 해당하는 스펙트로그램 time bin index가 입력 오디오 몇 초에 해당하는지를 반환\n",
    "  '''\n",
    "  # TODO: 함수를 완성하시오\n",
    "  return \n",
    "\n",
    "\n",
    "def change_ytick_to_frequency(sr, n_fft):\n",
    "  prev_yticks = plt.yticks()[0][1:-1] \n",
    "  ytick_labels= [frequency_bin_to_hz(bin_index, sr=sr, n_fft=n_fft) for bin_index in prev_yticks]\n",
    "  plt.yticks(ticks=prev_yticks, labels=ytick_labels)\n",
    "\n",
    "def change_xtick_to_seconds(sr, n_fft, hop_size):\n",
    "  prev_xticks = plt.xticks()[0][1:-1]\n",
    "  xtick_labels= [time_bin_to_second(bin_index, sr=sr, n_fft=n_fft, hop_size=hop_size) for bin_index in prev_xticks]\n",
    "  plt.xticks(ticks=prev_xticks, labels=xtick_labels)\n"
   ]
  },
  {
   "cell_type": "code",
   "execution_count": null,
   "metadata": {
    "id": "8n9bF2L2DTB6"
   },
   "outputs": [],
   "source": [
    "fft_size=1024\n",
    "hop_size=512\n",
    "spec = get_spectrogram(your_audio, fft_size, hop_size)\n",
    "\n",
    "plt.figure(figsize=(10,10))\n",
    "plt.imshow(spec, origin='below', aspect='auto', interpolation='nearest')\n",
    "change_ytick_to_frequency(SR, fft_size)\n",
    "change_xtick_to_seconds(SR, fft_size, hop_size)\n",
    "plt.ylabel('Frequency (Hz)') \n",
    "plt.xlabel('Time (seconds)') "
   ]
  },
  {
   "cell_type": "markdown",
   "metadata": {
    "id": "7aVMh5cbJKAN"
   },
   "source": [
    "### 문제 3-3 Mel Scale 생성 후 Mel Spectrogram 만들기 (5점)\n",
    "- **주의**: 숙제 함수에서는 MelScale을 반환하여야함\n",
    "  - 함수로 생성한 MelScale에 Spectrogram을 넣어 Mel Spectrogram을 생성하는 코드는 함수 바깥에 완성되어 있음\n",
    "- f_min과 f_max값은 자신이 입력으로 사용하는 오디오에 맞춰 설정\n",
    "  - 그래프 y축에서 빈공간이 많이 남으면 안됨"
   ]
  },
  {
   "cell_type": "code",
   "execution_count": null,
   "metadata": {
    "id": "_9ifemneJRrQ"
   },
   "outputs": [],
   "source": [
    "def make_mel_scale(n_mels, sr, n_spec_bins, f_min=None, f_max=None):\n",
    "  '''\n",
    "  입력: Linear Spectrogram (torch.Tensor)\n",
    "\n",
    "  출력: Mel Scale (torch.nn.Module) (Linear Spectrogram을 입력으로 받아 Mel Scale 출력)\n",
    "  '''\n",
    "  # TODO: torchaudio.transforms.MelScale을 이용해 함수를 완성하시오\n",
    "  # \n",
    "  return\n",
    "\n",
    "# TODO: f_min, f_max는 자신이 만든 오디오에 맞춰서 적당한 값을 입력해 그래프에서 빈 주파수가 없도록 설정\n",
    "your_f_min =100\n",
    "your_f_max =5000\n",
    "\n",
    "mel_scale = make_mel_scale(128, SR, n_spec_bins=spec.shape[0], f_min=your_f_min, f_max=your_f_max)\n",
    "mel_spec=mel_scale(spec)\n",
    "\n",
    "# Plot\n",
    "plt.figure(figsize=(10,15))\n",
    "plt.subplot(2,1,1)\n",
    "plt.imshow(mel_scale.fb.T, origin='below', aspect='auto', interpolation='nearest')\n",
    "plt.title(\"Mel Scale Filterbanks\")\n",
    "prev_xticks = plt.xticks()[0][1:-1]\n",
    "xtick_labels= [frequency_bin_to_hz(bin_index, sr=SR, n_fft=fft_size) for bin_index in prev_xticks]\n",
    "applied_ticks = plt.xticks(ticks=prev_xticks, labels=xtick_labels)\n",
    "plt.xlabel(\"Frequency (Hz)\")\n",
    "plt.ylabel(\"Mel Bin\")\n",
    "plt.subplot(2,1,2)\n",
    "plt.title(\"Mel Spectrogram\")\n",
    "plt.ylabel(\"Mel Bin\")\n",
    "plt.imshow(mel_spec, origin='below', aspect='auto', interpolation='nearest') \n",
    "change_xtick_to_seconds(SR, fft_size, hop_size)\n",
    "plt.xlabel('Time (seconds)') "
   ]
  },
  {
   "cell_type": "markdown",
   "metadata": {
    "id": "zIAW4N7-LgLC"
   },
   "source": [
    "### 문제 3-4 Amplitude to dB (5점)\n",
    "- Amplitude Scale의 Spectrogram을 dB scale로 변경\n",
    "- x축 y축의 스케일을 변경하는 것이 아니라 (x,y) 칸에 들어있는 모든 숫자들의 스케일을 dB로 변경"
   ]
  },
  {
   "cell_type": "code",
   "execution_count": null,
   "metadata": {
    "id": "m2b1Su6JP2wd"
   },
   "outputs": [],
   "source": [
    "def convert_amplitude_to_db(spec):\n",
    "  '''\n",
    "  입력: Amplitude Spectrogram (torch.Tensor)\n",
    "\n",
    "  출력: dB Spectrogram (torch.Tensor)\n",
    "  '''\n",
    "  # TODO: torchaudio.transforms.AmplitudeToDB를 이용해 함수를 완성하시오\n",
    "  return\n",
    "\n",
    "db_spec = convert_amplitude_to_db(mel_spec)\n",
    "\n",
    "plt.figure(figsize=(15,10))\n",
    "plt.subplot(2,2,1)\n",
    "plt.title(\"Amplitude Mel Spectrogram\")\n",
    "plt.imshow(mel_spec, origin='below', aspect='auto', interpolation=\"nearest\")\n",
    "plt.colorbar()\n",
    "change_xtick_to_seconds(SR, fft_size, hop_size)\n",
    "plt.ylabel('Mel Bin')\n",
    "plt.subplot(2,2,2)\n",
    "plt.title(\"Amplitude Mel Spectrum (Single frame of spectrogram)\")\n",
    "plt.plot(mel_spec[:,mel_spec.shape[1]//2] )\n",
    "plt.xlabel('Mel Bin')\n",
    "plt.subplot(2,2,3)\n",
    "plt.title(\"dB Mel Spectrogram\")\n",
    "plt.ylabel('Mel Bin')\n",
    "plt.imshow(db_spec, origin='below', aspect='auto', interpolation=\"nearest\")\n",
    "change_xtick_to_seconds(SR, fft_size, hop_size)\n",
    "plt.colorbar()\n",
    "plt.subplot(2,2,4)\n",
    "plt.title(\"dB Mel Spectrum (Single frame of spectrogram)\")\n",
    "plt.plot(db_spec[:,db_spec.shape[1]//2] )\n",
    "plt.xlabel('Mel Bin')"
   ]
  },
  {
   "cell_type": "markdown",
   "metadata": {
    "id": "t8sCr6uiVzOf"
   },
   "source": [
    "### 문제 3-5 알맞은 FFT Size 고르기 (10점)\n",
    "- FFT Size 변화에 따라 주파수 해상도와 시간 해상도가 어떻게 달라지는지 확인한다\n",
    "- 자신이 스펙트로그램을 통해 보고싶은 정보가 어떤 것인지, 그리고 이를 위해서는 어떤 fft_size와 mel f_min, f_max를 선택해야하는지 아래에 기술한다."
   ]
  },
  {
   "cell_type": "code",
   "execution_count": null,
   "metadata": {
    "id": "OsjCCCoZhf0C"
   },
   "outputs": [],
   "source": [
    "# TODO: 다양한 FFT size를 리스트 안에 넣어서 코드를 돌리고 확인해본다.\n",
    "fft_size_list = [] #예: fft_size_list=[128, 8192]\n",
    "\n",
    "# TODO: 자신이 선택한 오디오를 업로드하고, FFT 사이즈에 따른 차이를 쉽게 보여줄 수 있는 구간을 잘라서 플롯한다.\n",
    "# TODO: 특성을 잘 보여줄 수 있는 f_min, f_max를 선택한다.\n",
    "your_audio, your_sr = torchaudio.load(\"your_audiofile.wav\")\n",
    "your_audio = your_audio[:]\n",
    "your_f_min = 20\n",
    "your_f_max = 20000\n",
    "\n",
    "plt.figure(figsize=(10,25))\n",
    "for i, fft_size in enumerate(fft_size_list):\n",
    "  hop_size = fft_size //2\n",
    "  spec = get_spectrogram(your_audio, fft_size, hop_size)\n",
    "  mel_scale = make_mel_scale(128, your_sr, n_spec_bins=spec.shape[0], f_min=your_f_min, f_max=your_f_max)\n",
    "  mel_spec=mel_scale(spec)\n",
    "  db_spec = convert_amplitude_to_db(mel_spec)\n",
    "  plt.subplot(len(fft_size_list), 1, i+1)\n",
    "  plt.title(f\"dB Mel Spectrogram with FFT size {fft_size}\")\n",
    "  plt.ylabel('Mel Bin')\n",
    "  plt.imshow(db_spec, origin='below', aspect='auto', interpolation=\"nearest\")\n",
    "  change_xtick_to_seconds(your_sr, fft_size, hop_size)\n"
   ]
  },
  {
   "cell_type": "markdown",
   "metadata": {
    "id": "ea88xAITzx2Z"
   },
   "source": [
    "### 문제3-5 답안:\n",
    "- 아래에 FFT 사이즈에 따라 어떤 정보들이 더 알기 쉬워지고 어떤 정보들이 알기 어려워지는 지를 "
   ]
  },
  {
   "cell_type": "code",
   "execution_count": null,
   "metadata": {
    "id": "XyC-57Dyz1JV"
   },
   "outputs": [],
   "source": []
  }
 ],
 "metadata": {
  "colab": {
   "collapsed_sections": [],
   "name": "DL_for_MIR_Assignment_1.ipynb",
   "provenance": []
  },
  "interpreter": {
   "hash": "39ac75a3ba3847fa120672d19dd46fa51f7140383b0f3af767af43f945b6aaa5"
  },
  "kernelspec": {
   "display_name": "dlfm_",
   "language": "python",
   "name": "python3"
  },
  "language_info": {
   "codemirror_mode": {
    "name": "ipython",
    "version": 3
   },
   "file_extension": ".py",
   "mimetype": "text/x-python",
   "name": "python",
   "nbconvert_exporter": "python",
   "pygments_lexer": "ipython3",
   "version": "3.8.12"
  }
 },
 "nbformat": 4,
 "nbformat_minor": 1
}
